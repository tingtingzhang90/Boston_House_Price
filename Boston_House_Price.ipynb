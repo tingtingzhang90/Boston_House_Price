{
 "cells": [
  {
   "cell_type": "markdown",
   "metadata": {},
   "source": [
    "# Use the Boston dataset to estimate the median price of a house"
   ]
  },
  {
   "cell_type": "code",
   "execution_count": 1,
   "metadata": {},
   "outputs": [],
   "source": [
    "# Import the necessary libraries\n",
    "import pandas as pd\n",
    "from sklearn import datasets\n",
    "import tensorflow as tf\n",
    "import itertools"
   ]
  },
  {
   "cell_type": "markdown",
   "metadata": {},
   "source": [
    "## Step 1) Import the data with pandas"
   ]
  },
  {
   "cell_type": "markdown",
   "metadata": {},
   "source": [
    "You define the column names and store it in COLUMNS. You can use pd.read_csv() to import the data."
   ]
  },
  {
   "cell_type": "code",
   "execution_count": 2,
   "metadata": {},
   "outputs": [
    {
     "name": "stdout",
     "output_type": "stream",
     "text": [
      "(400, 10) (100, 10) (6, 10)\n"
     ]
    }
   ],
   "source": [
    "COLUMNS = [\"crim\", \"zn\", \"indus\", \"nox\", \"rm\", \"age\", \n",
    "          \"dis\", \"tax\", \"ptratio\", \"medv\"]\n",
    "\n",
    "training_set = pd.read_csv(\"D:/boston/boston_train.csv\", skipinitialspace = True, skiprows = 1, names = COLUMNS)\n",
    "\n",
    "test_set = pd.read_csv(\"D:/boston/boston_test.csv\", skipinitialspace = True, skiprows = 1, names = COLUMNS)\n",
    "\n",
    "prediction_set = pd.read_csv(\"D:/boston/boston_predict.csv\", skipinitialspace = True, skiprows = 1, names = COLUMNS)\n",
    "\n",
    "# You can print the shape of the data.\n",
    "print(training_set.shape, test_set.shape, prediction_set.shape)"
   ]
  },
  {
   "cell_type": "markdown",
   "metadata": {},
   "source": [
    "Note that the label, i.e. your y, is included in the dataset. So you need to define two other lists. One containing only the features and one with the name of the label only. These two lists will tell your estimator what are the features in the dataset and what column name is the label\n",
    "\n",
    "It is done with the code below."
   ]
  },
  {
   "cell_type": "code",
   "execution_count": 3,
   "metadata": {},
   "outputs": [],
   "source": [
    "FEATURES = [\"crim\", \"zn\", \"indus\", \"nox\", \"rm\", \"age\", \n",
    "          \"dis\", \"tax\", \"ptratio\"]\n",
    "LABEL = \"medv\""
   ]
  },
  {
   "cell_type": "markdown",
   "metadata": {},
   "source": [
    "## Step 2) Convert the data"
   ]
  },
  {
   "cell_type": "markdown",
   "metadata": {},
   "source": [
    "You need to convert the numeric variables in the proper format. Tensorflow provides a method to convert continuous variable: tf.feature_column.numeric_column().\n",
    "\n",
    "In the previous step, you define a list a feature you want to include in the model. Now you can use this list to convert them into numeric data. If you want to exclude features in your model, feel free to drop one or more variables in the list FEATURES before you construct the feature_cols\n",
    "\n",
    "Note that you will use Python list comprehension with the list FEATURES to create a new list named feature_cols. It helps you avoid writing nine times tf.feature_column.numeric_column(). A list comprehension is a faster and cleaner way to create new lists"
   ]
  },
  {
   "cell_type": "code",
   "execution_count": 4,
   "metadata": {},
   "outputs": [
    {
     "data": {
      "text/html": [
       "<div>\n",
       "<style scoped>\n",
       "    .dataframe tbody tr th:only-of-type {\n",
       "        vertical-align: middle;\n",
       "    }\n",
       "\n",
       "    .dataframe tbody tr th {\n",
       "        vertical-align: top;\n",
       "    }\n",
       "\n",
       "    .dataframe thead th {\n",
       "        text-align: right;\n",
       "    }\n",
       "</style>\n",
       "<table border=\"1\" class=\"dataframe\">\n",
       "  <thead>\n",
       "    <tr style=\"text-align: right;\">\n",
       "      <th></th>\n",
       "      <th>crim</th>\n",
       "      <th>zn</th>\n",
       "      <th>indus</th>\n",
       "      <th>nox</th>\n",
       "      <th>rm</th>\n",
       "      <th>age</th>\n",
       "      <th>dis</th>\n",
       "      <th>tax</th>\n",
       "      <th>ptratio</th>\n",
       "      <th>medv</th>\n",
       "    </tr>\n",
       "  </thead>\n",
       "  <tbody>\n",
       "    <tr>\n",
       "      <td>0</td>\n",
       "      <td>2.30040</td>\n",
       "      <td>0.0</td>\n",
       "      <td>19.58</td>\n",
       "      <td>0.605</td>\n",
       "      <td>6.319</td>\n",
       "      <td>96.1</td>\n",
       "      <td>2.1000</td>\n",
       "      <td>403</td>\n",
       "      <td>14.7</td>\n",
       "      <td>23.8</td>\n",
       "    </tr>\n",
       "    <tr>\n",
       "      <td>1</td>\n",
       "      <td>13.35980</td>\n",
       "      <td>0.0</td>\n",
       "      <td>18.10</td>\n",
       "      <td>0.693</td>\n",
       "      <td>5.887</td>\n",
       "      <td>94.7</td>\n",
       "      <td>1.7821</td>\n",
       "      <td>666</td>\n",
       "      <td>20.2</td>\n",
       "      <td>12.7</td>\n",
       "    </tr>\n",
       "    <tr>\n",
       "      <td>2</td>\n",
       "      <td>0.12744</td>\n",
       "      <td>0.0</td>\n",
       "      <td>6.91</td>\n",
       "      <td>0.448</td>\n",
       "      <td>6.770</td>\n",
       "      <td>2.9</td>\n",
       "      <td>5.7209</td>\n",
       "      <td>233</td>\n",
       "      <td>17.9</td>\n",
       "      <td>26.6</td>\n",
       "    </tr>\n",
       "    <tr>\n",
       "      <td>3</td>\n",
       "      <td>0.15876</td>\n",
       "      <td>0.0</td>\n",
       "      <td>10.81</td>\n",
       "      <td>0.413</td>\n",
       "      <td>5.961</td>\n",
       "      <td>17.5</td>\n",
       "      <td>5.2873</td>\n",
       "      <td>305</td>\n",
       "      <td>19.2</td>\n",
       "      <td>21.7</td>\n",
       "    </tr>\n",
       "    <tr>\n",
       "      <td>4</td>\n",
       "      <td>0.03768</td>\n",
       "      <td>80.0</td>\n",
       "      <td>1.52</td>\n",
       "      <td>0.404</td>\n",
       "      <td>7.274</td>\n",
       "      <td>38.3</td>\n",
       "      <td>7.3090</td>\n",
       "      <td>329</td>\n",
       "      <td>12.6</td>\n",
       "      <td>34.6</td>\n",
       "    </tr>\n",
       "  </tbody>\n",
       "</table>\n",
       "</div>"
      ],
      "text/plain": [
       "       crim    zn  indus    nox     rm   age     dis  tax  ptratio  medv\n",
       "0   2.30040   0.0  19.58  0.605  6.319  96.1  2.1000  403     14.7  23.8\n",
       "1  13.35980   0.0  18.10  0.693  5.887  94.7  1.7821  666     20.2  12.7\n",
       "2   0.12744   0.0   6.91  0.448  6.770   2.9  5.7209  233     17.9  26.6\n",
       "3   0.15876   0.0  10.81  0.413  5.961  17.5  5.2873  305     19.2  21.7\n",
       "4   0.03768  80.0   1.52  0.404  7.274  38.3  7.3090  329     12.6  34.6"
      ]
     },
     "execution_count": 4,
     "metadata": {},
     "output_type": "execute_result"
    }
   ],
   "source": [
    "training_set.head()"
   ]
  },
  {
   "cell_type": "code",
   "execution_count": 5,
   "metadata": {},
   "outputs": [
    {
     "data": {
      "text/plain": [
       "crim       float64\n",
       "zn         float64\n",
       "indus      float64\n",
       "nox        float64\n",
       "rm         float64\n",
       "age        float64\n",
       "dis        float64\n",
       "tax          int64\n",
       "ptratio    float64\n",
       "medv       float64\n",
       "dtype: object"
      ]
     },
     "execution_count": 5,
     "metadata": {},
     "output_type": "execute_result"
    }
   ],
   "source": [
    "training_set.dtypes"
   ]
  },
  {
   "cell_type": "code",
   "execution_count": 6,
   "metadata": {},
   "outputs": [],
   "source": [
    "feature_cols = [tf.feature_column.numeric_column(k) for k in FEATURES]"
   ]
  },
  {
   "cell_type": "markdown",
   "metadata": {},
   "source": [
    "# Step 3) Define the estimator"
   ]
  },
  {
   "cell_type": "markdown",
   "metadata": {},
   "source": [
    "In this step, you need to define the estimator. Tensorflow currently provides 6 pre-built estimators, including 3 for classification task and 3 for regression task:\n",
    "\n",
    "- Regressor\n",
    " - DNNRegressor\n",
    " - LinearRegressor\n",
    " - DNNLineaCombinedRegressor\n",
    "- Classifier\n",
    " - DNNClassifier\n",
    " - LinearClassifier\n",
    " - DNNLineaCombinedClassifier\n",
    " \n",
    "In this tutorial, you will use the Linear Regressor. To access this function, you need to use tf.estimator.\n",
    "\n",
    "The function needs two arguments:\n",
    "\n",
    "* feature_columns: Contains the variables to include in the model\n",
    "* model_dir: path to store the graph, save the model parameters, etc\n",
    "\n",
    "Tensorflow will automatically create a file named train in your working directory. You need to use this path to access the Tensorboard."
   ]
  },
  {
   "cell_type": "code",
   "execution_count": 7,
   "metadata": {
    "scrolled": true
   },
   "outputs": [
    {
     "name": "stdout",
     "output_type": "stream",
     "text": [
      "INFO:tensorflow:Using default config.\n",
      "INFO:tensorflow:Using config: {'_model_dir': 'train', '_tf_random_seed': None, '_save_summary_steps': 100, '_save_checkpoints_steps': None, '_save_checkpoints_secs': 600, '_session_config': allow_soft_placement: true\n",
      "graph_options {\n",
      "  rewrite_options {\n",
      "    meta_optimizer_iterations: ONE\n",
      "  }\n",
      "}\n",
      ", '_keep_checkpoint_max': 5, '_keep_checkpoint_every_n_hours': 10000, '_log_step_count_steps': 100, '_train_distribute': None, '_device_fn': None, '_protocol': None, '_eval_distribute': None, '_experimental_distribute': None, '_experimental_max_worker_delay_secs': None, '_session_creation_timeout_secs': 7200, '_service': None, '_cluster_spec': <tensorflow.python.training.server_lib.ClusterSpec object at 0x000002095868D788>, '_task_type': 'worker', '_task_id': 0, '_global_id_in_cluster': 0, '_master': '', '_evaluation_master': '', '_is_chief': True, '_num_ps_replicas': 0, '_num_worker_replicas': 1}\n"
     ]
    }
   ],
   "source": [
    "estimator = tf.estimator.LinearRegressor(feature_columns = feature_cols, model_dir = \"train\")"
   ]
  },
  {
   "cell_type": "markdown",
   "metadata": {},
   "source": [
    "The tricky part with TensorFlow is the way to feed the model. Tensorflow is designed to work with parallel computing and very large dataset. Due to the limitation of the machine resources, it is impossible to feed the model with all the data at once. For that, you need to feed a batch of data each time. Note that, we are talking about huge dataset with millions or more records. If you don't add batch, you will end up with a memory error.\n",
    "\n",
    "For instance, if your data contains 100 observations and you define a batch size of 10, it means the model will see 10 observations for each iteration (10*10).\n",
    "\n",
    "When the model has seen all the data, it finishes one **epoch**. An epoch defines how many times you want the model to see the data. It is better to set this step to none and let the model performs iteration number of time.\n",
    "\n",
    "A second information to add is if you want to shuffle the data before each iteration. During the training, it is important to shuffle the data so that the model does not learn specific pattern of the dataset. If the model learns the details of the underlying pattern of the data, it will have difficulties to generalize the prediction for unseen data. This is called **overfitting**. The model performs well on the training data but cannot predict correctly for unseen data.\n",
    "\n",
    "TensorFlow makes this two steps easy to do. When the data goes to the pipeline, it knows how many observations it needs (batch) and if it has to shuffle the data.\n",
    "\n",
    "To instruct Tensorflow how to feed the model, you can use pandas_input_fn. This object needs 5 parameters:\n",
    "\n",
    "- x: feature data\n",
    "- y: label data\n",
    "- batch_size: batch. By default 128\n",
    "- num_epoch: Number of epoch, by default 1\n",
    "- shuffle: Shuffle or not the data. By default, None\n",
    "\n",
    "You need to feed the model many times so you define a function to repeat this process. all this function get_input_fn."
   ]
  },
  {
   "cell_type": "code",
   "execution_count": 8,
   "metadata": {},
   "outputs": [],
   "source": [
    "def get_input_fn(data_set, num_epochs = None, n_batch = 128, shuffle = True):\n",
    "    return tf.compat.v1.estimator.inputs.pandas_input_fn(\n",
    "    x = pd.DataFrame({k: data_set[k].values for k in FEATURES}),\n",
    "    y = pd.Series(data_set[LABEL].values),\n",
    "    batch_size = n_batch,\n",
    "    num_epochs = num_epochs,\n",
    "    shuffle = shuffle)"
   ]
  },
  {
   "cell_type": "markdown",
   "metadata": {},
   "source": [
    "The usual method to evaluate the performance of a model is to:\n",
    "\n",
    "- Train the model\n",
    "- Evaluate the model in a different dataset\n",
    "- Make prediction\n",
    "\n",
    "Tensorflow estimator provides three different functions to carry out this three steps easily."
   ]
  },
  {
   "cell_type": "markdown",
   "metadata": {},
   "source": [
    "# Step 4) Train the model"
   ]
  },
  {
   "cell_type": "markdown",
   "metadata": {},
   "source": [
    "You can use the estimator train to evaluate the model. The train estimator needs an input_fn and a number of steps. You can use the function you created above to feed the model. Then, you instruct the model to iterate 1000 times. Note that, you don't specify the number of epochs, you let the model iterates 1000 times. If you set the number of epoch to 1, then the model will iterate 4 times: There are 400 records in the training set, and the batch size is 128\n",
    "\n",
    "1. 128 rows\n",
    "2. 128 rows\n",
    "3. 128 rows\n",
    "4. 16 rows\n",
    "\n",
    "Therefore, it is easier to set the number of epoch to none and define the number of iteration."
   ]
  },
  {
   "cell_type": "code",
   "execution_count": 9,
   "metadata": {},
   "outputs": [
    {
     "name": "stdout",
     "output_type": "stream",
     "text": [
      "WARNING:tensorflow:From C:\\Users\\zhang\\Anaconda3\\envs\\hello-tf\\lib\\site-packages\\tensorflow_core\\python\\ops\\resource_variable_ops.py:1630: calling BaseResourceVariable.__init__ (from tensorflow.python.ops.resource_variable_ops) with constraint is deprecated and will be removed in a future version.\n",
      "Instructions for updating:\n",
      "If using Keras pass *_constraint arguments to layers.\n",
      "WARNING:tensorflow:From C:\\Users\\zhang\\Anaconda3\\envs\\hello-tf\\lib\\site-packages\\tensorflow_core\\python\\training\\training_util.py:236: Variable.initialized_value (from tensorflow.python.ops.variables) is deprecated and will be removed in a future version.\n",
      "Instructions for updating:\n",
      "Use Variable.read_value. Variables in 2.X are initialized automatically both in eager and graph (inside tf.defun) contexts.\n",
      "WARNING:tensorflow:From C:\\Users\\zhang\\Anaconda3\\envs\\hello-tf\\lib\\site-packages\\tensorflow_estimator\\python\\estimator\\inputs\\queues\\feeding_queue_runner.py:62: QueueRunner.__init__ (from tensorflow.python.training.queue_runner_impl) is deprecated and will be removed in a future version.\n",
      "Instructions for updating:\n",
      "To construct input pipelines, use the `tf.data` module.\n",
      "WARNING:tensorflow:From C:\\Users\\zhang\\Anaconda3\\envs\\hello-tf\\lib\\site-packages\\tensorflow_estimator\\python\\estimator\\inputs\\queues\\feeding_functions.py:500: add_queue_runner (from tensorflow.python.training.queue_runner_impl) is deprecated and will be removed in a future version.\n",
      "Instructions for updating:\n",
      "To construct input pipelines, use the `tf.data` module.\n",
      "INFO:tensorflow:Calling model_fn.\n",
      "WARNING:tensorflow:Layer linear/linear_model is casting an input tensor from dtype float64 to the layer's dtype of float32, which is new behavior in TensorFlow 2.  The layer has dtype float32 because it's dtype defaults to floatx.\n",
      "\n",
      "If you intended to run this layer in float32, you can safely ignore this warning. If in doubt, this warning is likely only an issue if you are porting a TensorFlow 1.X model to TensorFlow 2.\n",
      "\n",
      "To change all layers to have dtype float64 by default, call `tf.keras.backend.set_floatx('float64')`. To change just this layer, pass dtype='float64' to the layer constructor. If you are the author of this layer, you can disable autocasting by passing autocast=False to the base Layer constructor.\n",
      "\n",
      "WARNING:tensorflow:From C:\\Users\\zhang\\Anaconda3\\envs\\hello-tf\\lib\\site-packages\\tensorflow_core\\python\\feature_column\\feature_column_v2.py:518: Layer.add_variable (from tensorflow.python.keras.engine.base_layer) is deprecated and will be removed in a future version.\n",
      "Instructions for updating:\n",
      "Please use `layer.add_weight` method instead.\n",
      "WARNING:tensorflow:From C:\\Users\\zhang\\Anaconda3\\envs\\hello-tf\\lib\\site-packages\\tensorflow_estimator\\python\\estimator\\canned\\linear.py:308: to_float (from tensorflow.python.ops.math_ops) is deprecated and will be removed in a future version.\n",
      "Instructions for updating:\n",
      "Use `tf.cast` instead.\n",
      "WARNING:tensorflow:From C:\\Users\\zhang\\Anaconda3\\envs\\hello-tf\\lib\\site-packages\\tensorflow_core\\python\\keras\\optimizer_v2\\ftrl.py:143: calling Constant.__init__ (from tensorflow.python.ops.init_ops) with dtype is deprecated and will be removed in a future version.\n",
      "Instructions for updating:\n",
      "Call initializer instance with the dtype argument instead of passing it to the constructor\n",
      "INFO:tensorflow:Done calling model_fn.\n",
      "INFO:tensorflow:Create CheckpointSaverHook.\n",
      "INFO:tensorflow:Graph was finalized.\n",
      "INFO:tensorflow:Restoring parameters from train\\model.ckpt-3000\n",
      "WARNING:tensorflow:From C:\\Users\\zhang\\Anaconda3\\envs\\hello-tf\\lib\\site-packages\\tensorflow_core\\python\\training\\saver.py:1069: get_checkpoint_mtimes (from tensorflow.python.training.checkpoint_management) is deprecated and will be removed in a future version.\n",
      "Instructions for updating:\n",
      "Use standard file utilities to get mtimes.\n",
      "INFO:tensorflow:Running local_init_op.\n",
      "INFO:tensorflow:Done running local_init_op.\n",
      "WARNING:tensorflow:From C:\\Users\\zhang\\Anaconda3\\envs\\hello-tf\\lib\\site-packages\\tensorflow_core\\python\\training\\monitored_session.py:882: start_queue_runners (from tensorflow.python.training.queue_runner_impl) is deprecated and will be removed in a future version.\n",
      "Instructions for updating:\n",
      "To construct input pipelines, use the `tf.data` module.\n",
      "INFO:tensorflow:Saving checkpoints for 3000 into train\\model.ckpt.\n",
      "INFO:tensorflow:loss = 67.169044, step = 3000\n",
      "INFO:tensorflow:global_step/sec: 251.809\n",
      "INFO:tensorflow:loss = 66.767876, step = 3100 (0.400 sec)\n",
      "INFO:tensorflow:global_step/sec: 437.849\n",
      "INFO:tensorflow:loss = 66.38793, step = 3200 (0.229 sec)\n",
      "INFO:tensorflow:global_step/sec: 498.665\n",
      "INFO:tensorflow:loss = 66.0279, step = 3300 (0.200 sec)\n",
      "INFO:tensorflow:global_step/sec: 501.159\n",
      "INFO:tensorflow:loss = 65.68654, step = 3400 (0.201 sec)\n",
      "INFO:tensorflow:global_step/sec: 503.884\n",
      "INFO:tensorflow:loss = 65.36271, step = 3500 (0.198 sec)\n",
      "INFO:tensorflow:global_step/sec: 496.355\n",
      "INFO:tensorflow:loss = 65.05533, step = 3600 (0.200 sec)\n",
      "INFO:tensorflow:global_step/sec: 496.451\n",
      "INFO:tensorflow:loss = 64.763435, step = 3700 (0.201 sec)\n",
      "INFO:tensorflow:global_step/sec: 501.255\n",
      "INFO:tensorflow:loss = 64.48611, step = 3800 (0.199 sec)\n",
      "INFO:tensorflow:global_step/sec: 495.47\n",
      "INFO:tensorflow:loss = 64.222466, step = 3900 (0.202 sec)\n",
      "INFO:tensorflow:Saving checkpoints for 4000 into train\\model.ckpt.\n",
      "INFO:tensorflow:Loss for final step: 29.142025.\n"
     ]
    },
    {
     "data": {
      "text/plain": [
       "<tensorflow_estimator.python.estimator.canned.linear.LinearRegressorV2 at 0x2095868dbc8>"
      ]
     },
     "execution_count": 9,
     "metadata": {},
     "output_type": "execute_result"
    }
   ],
   "source": [
    "estimator.train(input_fn = get_input_fn(training_set, \n",
    "                                        num_epochs = None, \n",
    "                                        n_batch = 128, \n",
    "                                        shuffle = False), \n",
    "                                        steps = 1000)"
   ]
  },
  {
   "cell_type": "markdown",
   "metadata": {},
   "source": [
    "You can check the Tensorboard through the following command:\n",
    "activate hello-tf\n",
    "- For MacOS\n",
    "\n",
    "tensorboard --logdir=./train\n",
    "- For Windows\n",
    "\n",
    "tensorboard --logdir=train\t"
   ]
  },
  {
   "cell_type": "markdown",
   "metadata": {},
   "source": [
    "## Step 5) Evaluate your model"
   ]
  },
  {
   "cell_type": "markdown",
   "metadata": {},
   "source": [
    "You can evaluate the fit of your model on the test set with the code below:"
   ]
  },
  {
   "cell_type": "code",
   "execution_count": 10,
   "metadata": {},
   "outputs": [
    {
     "name": "stdout",
     "output_type": "stream",
     "text": [
      "INFO:tensorflow:Calling model_fn.\n",
      "WARNING:tensorflow:Layer linear/linear_model is casting an input tensor from dtype float64 to the layer's dtype of float32, which is new behavior in TensorFlow 2.  The layer has dtype float32 because it's dtype defaults to floatx.\n",
      "\n",
      "If you intended to run this layer in float32, you can safely ignore this warning. If in doubt, this warning is likely only an issue if you are porting a TensorFlow 1.X model to TensorFlow 2.\n",
      "\n",
      "To change all layers to have dtype float64 by default, call `tf.keras.backend.set_floatx('float64')`. To change just this layer, pass dtype='float64' to the layer constructor. If you are the author of this layer, you can disable autocasting by passing autocast=False to the base Layer constructor.\n",
      "\n",
      "INFO:tensorflow:Done calling model_fn.\n",
      "INFO:tensorflow:Starting evaluation at 2019-10-23T17:01:24Z\n",
      "INFO:tensorflow:Graph was finalized.\n",
      "INFO:tensorflow:Restoring parameters from train\\model.ckpt-4000\n",
      "INFO:tensorflow:Running local_init_op.\n",
      "INFO:tensorflow:Done running local_init_op.\n",
      "INFO:tensorflow:Finished evaluation at 2019-10-23-17:01:25\n",
      "INFO:tensorflow:Saving dict for global step 4000: average_loss = 20.341146, global_step = 4000, label/mean = 22.08, loss = 20.341146, prediction/mean = 22.887001\n",
      "INFO:tensorflow:Saving 'checkpoint_path' summary for global step 4000: train\\model.ckpt-4000\n"
     ]
    }
   ],
   "source": [
    "ev = estimator.evaluate(input_fn = get_input_fn(test_set, \n",
    "                                                num_epochs = 1,\n",
    "                                                n_batch = 128,\n",
    "                                                shuffle = False))"
   ]
  },
  {
   "cell_type": "markdown",
   "metadata": {},
   "source": [
    "You can print the loss with the code below:"
   ]
  },
  {
   "cell_type": "code",
   "execution_count": 11,
   "metadata": {},
   "outputs": [
    {
     "name": "stdout",
     "output_type": "stream",
     "text": [
      "Loss: 20.341146\n"
     ]
    }
   ],
   "source": [
    "loss_score = ev[\"loss\"]\n",
    "print(\"Loss: {0:f}\".format(loss_score))"
   ]
  },
  {
   "cell_type": "markdown",
   "metadata": {},
   "source": [
    "The model has a loss of 25.544739. You can check the summary statistic to get an idea of how big the error is."
   ]
  },
  {
   "cell_type": "code",
   "execution_count": 12,
   "metadata": {},
   "outputs": [
    {
     "data": {
      "text/plain": [
       "count    400.000000\n",
       "mean      22.625500\n",
       "std        9.572593\n",
       "min        5.000000\n",
       "25%       16.600000\n",
       "50%       21.400000\n",
       "75%       25.025000\n",
       "max       50.000000\n",
       "Name: medv, dtype: float64"
      ]
     },
     "execution_count": 12,
     "metadata": {},
     "output_type": "execute_result"
    }
   ],
   "source": [
    "training_set['medv'].describe()"
   ]
  },
  {
   "cell_type": "markdown",
   "metadata": {},
   "source": [
    "From the summary statistic above, you know that the average price for a house is 22 thousand, with a minimum price of 9 thousands and maximum of 50 thousand. The model makes a typical error of 25k dollars."
   ]
  },
  {
   "cell_type": "markdown",
   "metadata": {},
   "source": [
    "## Step 6) Make the prediction"
   ]
  },
  {
   "cell_type": "markdown",
   "metadata": {},
   "source": [
    "Finally, you can use the estimator predict to estimate the value of 6 Boston houses."
   ]
  },
  {
   "cell_type": "code",
   "execution_count": 13,
   "metadata": {},
   "outputs": [],
   "source": [
    "y = estimator.predict(input_fn = get_input_fn(prediction_set,\n",
    "                                             num_epochs = 1,\n",
    "                                             n_batch = 128,\n",
    "                                             shuffle = False))"
   ]
  },
  {
   "cell_type": "markdown",
   "metadata": {},
   "source": [
    "To print the estimated values of , you can use this code:"
   ]
  },
  {
   "cell_type": "code",
   "execution_count": 14,
   "metadata": {},
   "outputs": [
    {
     "name": "stdout",
     "output_type": "stream",
     "text": [
      "INFO:tensorflow:Calling model_fn.\n",
      "WARNING:tensorflow:Layer linear/linear_model is casting an input tensor from dtype float64 to the layer's dtype of float32, which is new behavior in TensorFlow 2.  The layer has dtype float32 because it's dtype defaults to floatx.\n",
      "\n",
      "If you intended to run this layer in float32, you can safely ignore this warning. If in doubt, this warning is likely only an issue if you are porting a TensorFlow 1.X model to TensorFlow 2.\n",
      "\n",
      "To change all layers to have dtype float64 by default, call `tf.keras.backend.set_floatx('float64')`. To change just this layer, pass dtype='float64' to the layer constructor. If you are the author of this layer, you can disable autocasting by passing autocast=False to the base Layer constructor.\n",
      "\n",
      "INFO:tensorflow:Done calling model_fn.\n",
      "INFO:tensorflow:Graph was finalized.\n",
      "INFO:tensorflow:Restoring parameters from train\\model.ckpt-4000\n",
      "INFO:tensorflow:Running local_init_op.\n",
      "INFO:tensorflow:Done running local_init_op.\n",
      "Predictions: [array([35.025585], dtype=float32), array([19.02856], dtype=float32), array([24.776585], dtype=float32), array([33.31087], dtype=float32), array([14.747737], dtype=float32), array([20.348122], dtype=float32)]\n"
     ]
    }
   ],
   "source": [
    "predictions = list(p[\"predictions\"] for p in itertools.islice(y, 6))\n",
    "print(\"Predictions: {}\".format(str(predictions)))"
   ]
  },
  {
   "cell_type": "markdown",
   "metadata": {},
   "source": [
    "The model forecast the following values:\n",
    "\n",
    "| House  | Prediction |\n",
    "| ------------- | ------------- |\n",
    "| 1  | 33.803963  |\n",
    "| 2  | 18.942837  |\n",
    "| 3  | 26.030296  |\n",
    "| 4  | 31.343994  |\n",
    "| 5  | 15.666693  |\n",
    "| 6  | 20.952637  |"
   ]
  },
  {
   "cell_type": "markdown",
   "metadata": {},
   "source": [
    "## Numpy Solution"
   ]
  },
  {
   "cell_type": "markdown",
   "metadata": {},
   "source": [
    "his section explains how to train the model using a numpy estimator to feed the data. The method is the same exept that you will use numpy_input_fn estimator."
   ]
  },
  {
   "cell_type": "code",
   "execution_count": 15,
   "metadata": {},
   "outputs": [],
   "source": [
    "training_set_n = pd.read_csv(\"D:/boston/boston_train.csv\").values\n",
    "test_set_n = pd.read_csv(\"D:/boston/boston_test.csv\").values\n",
    "prediction_set_n = pd.read_csv(\"D:/boston/boston_predict.csv\").values"
   ]
  },
  {
   "cell_type": "markdown",
   "metadata": {},
   "source": [
    "## Step 1) Import the data\n",
    "\n",
    "First of all, you need to differentiate the feature variables from the label. You need to do this for the training data and evaluation. It is faster to define a function to split the data."
   ]
  },
  {
   "cell_type": "code",
   "execution_count": 16,
   "metadata": {},
   "outputs": [],
   "source": [
    "def prepare_data(df):\n",
    "    X_train = df[:, :-3]\n",
    "    Y_train = df[:, -3]\n",
    "    return X_train, Y_train"
   ]
  },
  {
   "cell_type": "markdown",
   "metadata": {},
   "source": [
    "You can use the function to split the label from the features of the train/evaluate dataset"
   ]
  },
  {
   "cell_type": "code",
   "execution_count": 17,
   "metadata": {},
   "outputs": [
    {
     "name": "stdout",
     "output_type": "stream",
     "text": [
      "(400, 9) (400,)\n"
     ]
    }
   ],
   "source": [
    "X_train, Y_train = prepare_data(training_set_n)\n",
    "X_test, Y_test = prepare_data(test_set_n)\n",
    "print(X_train.shape, Y_train.shape)"
   ]
  },
  {
   "cell_type": "markdown",
   "metadata": {},
   "source": [
    "You need to exclude the last column of the prediction dataset because it contains only NaN"
   ]
  },
  {
   "cell_type": "code",
   "execution_count": 18,
   "metadata": {},
   "outputs": [],
   "source": [
    "X_predict = prediction_set_n[:, :-2]"
   ]
  },
  {
   "cell_type": "markdown",
   "metadata": {},
   "source": [
    "Confirm the shape of the array. Note that, the label should not have a dimension, it means (400,)."
   ]
  },
  {
   "cell_type": "code",
   "execution_count": 19,
   "metadata": {},
   "outputs": [
    {
     "name": "stdout",
     "output_type": "stream",
     "text": [
      "(400, 9) (400,) (6, 9)\n"
     ]
    }
   ],
   "source": [
    "print(X_train.shape, Y_train.shape, X_predict.shape)"
   ]
  },
  {
   "cell_type": "markdown",
   "metadata": {},
   "source": [
    "You can construct the feature columns as follow:"
   ]
  },
  {
   "cell_type": "code",
   "execution_count": 20,
   "metadata": {},
   "outputs": [],
   "source": [
    "feature_columns = [tf.feature_column.numeric_column('x', shape = X_train.shape[1:])]"
   ]
  },
  {
   "cell_type": "markdown",
   "metadata": {},
   "source": [
    "The estimator is defined as before, you instruct the feature columns and where to save the graph."
   ]
  },
  {
   "cell_type": "code",
   "execution_count": 21,
   "metadata": {},
   "outputs": [
    {
     "name": "stdout",
     "output_type": "stream",
     "text": [
      "INFO:tensorflow:Using default config.\n",
      "INFO:tensorflow:Using config: {'_model_dir': 'train1', '_tf_random_seed': None, '_save_summary_steps': 100, '_save_checkpoints_steps': None, '_save_checkpoints_secs': 600, '_session_config': allow_soft_placement: true\n",
      "graph_options {\n",
      "  rewrite_options {\n",
      "    meta_optimizer_iterations: ONE\n",
      "  }\n",
      "}\n",
      ", '_keep_checkpoint_max': 5, '_keep_checkpoint_every_n_hours': 10000, '_log_step_count_steps': 100, '_train_distribute': None, '_device_fn': None, '_protocol': None, '_eval_distribute': None, '_experimental_distribute': None, '_experimental_max_worker_delay_secs': None, '_session_creation_timeout_secs': 7200, '_service': None, '_cluster_spec': <tensorflow.python.training.server_lib.ClusterSpec object at 0x00000209586A5F08>, '_task_type': 'worker', '_task_id': 0, '_global_id_in_cluster': 0, '_master': '', '_evaluation_master': '', '_is_chief': True, '_num_ps_replicas': 0, '_num_worker_replicas': 1}\n"
     ]
    }
   ],
   "source": [
    "estimator = tf.estimator.LinearRegressor(feature_columns = feature_columns,\n",
    "                                        model_dir = \"train1\")"
   ]
  },
  {
   "cell_type": "markdown",
   "metadata": {},
   "source": [
    "You can use the numpy estimapor to feed the data to the model and then train the model. Note that, we define the input_fn function before to ease the readability."
   ]
  },
  {
   "cell_type": "code",
   "execution_count": 22,
   "metadata": {},
   "outputs": [
    {
     "name": "stdout",
     "output_type": "stream",
     "text": [
      "INFO:tensorflow:Calling model_fn.\n",
      "WARNING:tensorflow:Layer linear/linear_model is casting an input tensor from dtype float64 to the layer's dtype of float32, which is new behavior in TensorFlow 2.  The layer has dtype float32 because it's dtype defaults to floatx.\n",
      "\n",
      "If you intended to run this layer in float32, you can safely ignore this warning. If in doubt, this warning is likely only an issue if you are porting a TensorFlow 1.X model to TensorFlow 2.\n",
      "\n",
      "To change all layers to have dtype float64 by default, call `tf.keras.backend.set_floatx('float64')`. To change just this layer, pass dtype='float64' to the layer constructor. If you are the author of this layer, you can disable autocasting by passing autocast=False to the base Layer constructor.\n",
      "\n",
      "INFO:tensorflow:Done calling model_fn.\n",
      "INFO:tensorflow:Create CheckpointSaverHook.\n",
      "INFO:tensorflow:Graph was finalized.\n",
      "INFO:tensorflow:Restoring parameters from train1\\model.ckpt-5000\n",
      "INFO:tensorflow:Running local_init_op.\n",
      "INFO:tensorflow:Done running local_init_op.\n",
      "INFO:tensorflow:Saving checkpoints for 5000 into train1\\model.ckpt.\n",
      "INFO:tensorflow:loss = 62.03431, step = 5000\n",
      "INFO:tensorflow:global_step/sec: 1066.69\n",
      "INFO:tensorflow:loss = 61.8862, step = 5100 (0.095 sec)\n",
      "INFO:tensorflow:global_step/sec: 1253.34\n",
      "INFO:tensorflow:loss = 61.744713, step = 5200 (0.079 sec)\n",
      "INFO:tensorflow:global_step/sec: 1352.5\n",
      "INFO:tensorflow:loss = 61.609512, step = 5300 (0.075 sec)\n",
      "INFO:tensorflow:global_step/sec: 1373.49\n",
      "INFO:tensorflow:loss = 61.480278, step = 5400 (0.072 sec)\n",
      "INFO:tensorflow:global_step/sec: 1271.03\n",
      "INFO:tensorflow:loss = 61.356728, step = 5500 (0.079 sec)\n",
      "INFO:tensorflow:global_step/sec: 1285.48\n",
      "INFO:tensorflow:loss = 61.238564, step = 5600 (0.079 sec)\n",
      "INFO:tensorflow:global_step/sec: 1285.48\n",
      "INFO:tensorflow:loss = 61.1255, step = 5700 (0.077 sec)\n",
      "INFO:tensorflow:global_step/sec: 1319.31\n",
      "INFO:tensorflow:loss = 61.01733, step = 5800 (0.076 sec)\n",
      "INFO:tensorflow:global_step/sec: 1285.48\n",
      "INFO:tensorflow:loss = 60.913815, step = 5900 (0.078 sec)\n",
      "INFO:tensorflow:global_step/sec: 1285.48\n",
      "INFO:tensorflow:loss = 60.814682, step = 6000 (0.079 sec)\n",
      "INFO:tensorflow:global_step/sec: 1432.38\n",
      "INFO:tensorflow:loss = 60.719772, step = 6100 (0.069 sec)\n",
      "INFO:tensorflow:global_step/sec: 1336.91\n",
      "INFO:tensorflow:loss = 60.62889, step = 6200 (0.075 sec)\n",
      "INFO:tensorflow:global_step/sec: 1319.31\n",
      "INFO:tensorflow:loss = 60.541786, step = 6300 (0.076 sec)\n",
      "INFO:tensorflow:global_step/sec: 1354.97\n",
      "INFO:tensorflow:loss = 60.458344, step = 6400 (0.074 sec)\n",
      "INFO:tensorflow:global_step/sec: 1336.9\n",
      "INFO:tensorflow:loss = 60.378345, step = 6500 (0.075 sec)\n",
      "INFO:tensorflow:global_step/sec: 1373.52\n",
      "INFO:tensorflow:loss = 60.301666, step = 6600 (0.073 sec)\n",
      "INFO:tensorflow:global_step/sec: 1354.97\n",
      "INFO:tensorflow:loss = 60.22814, step = 6700 (0.074 sec)\n",
      "INFO:tensorflow:global_step/sec: 1412.22\n",
      "INFO:tensorflow:loss = 60.15761, step = 6800 (0.072 sec)\n",
      "INFO:tensorflow:global_step/sec: 1373.53\n",
      "INFO:tensorflow:loss = 60.08998, step = 6900 (0.072 sec)\n",
      "INFO:tensorflow:global_step/sec: 1389.35\n",
      "INFO:tensorflow:loss = 60.02507, step = 7000 (0.073 sec)\n",
      "INFO:tensorflow:global_step/sec: 1269.22\n",
      "INFO:tensorflow:loss = 59.962807, step = 7100 (0.079 sec)\n",
      "INFO:tensorflow:global_step/sec: 1253.33\n",
      "INFO:tensorflow:loss = 59.903023, step = 7200 (0.079 sec)\n",
      "INFO:tensorflow:global_step/sec: 1453.15\n",
      "INFO:tensorflow:loss = 59.845634, step = 7300 (0.069 sec)\n",
      "INFO:tensorflow:global_step/sec: 1302.18\n",
      "INFO:tensorflow:loss = 59.79054, step = 7400 (0.077 sec)\n",
      "INFO:tensorflow:global_step/sec: 1354.96\n",
      "INFO:tensorflow:loss = 59.737633, step = 7500 (0.074 sec)\n",
      "INFO:tensorflow:global_step/sec: 1373.52\n",
      "INFO:tensorflow:loss = 59.68681, step = 7600 (0.073 sec)\n",
      "INFO:tensorflow:global_step/sec: 1319.32\n",
      "INFO:tensorflow:loss = 59.637985, step = 7700 (0.076 sec)\n",
      "INFO:tensorflow:global_step/sec: 1392.6\n",
      "INFO:tensorflow:loss = 59.591064, step = 7800 (0.072 sec)\n",
      "INFO:tensorflow:global_step/sec: 1302.18\n",
      "INFO:tensorflow:loss = 59.545986, step = 7900 (0.078 sec)\n",
      "INFO:tensorflow:global_step/sec: 1193.64\n",
      "INFO:tensorflow:loss = 59.502666, step = 8000 (0.083 sec)\n",
      "INFO:tensorflow:global_step/sec: 1453.16\n",
      "INFO:tensorflow:loss = 59.461006, step = 8100 (0.069 sec)\n",
      "INFO:tensorflow:global_step/sec: 1373.52\n",
      "INFO:tensorflow:loss = 59.420967, step = 8200 (0.073 sec)\n",
      "INFO:tensorflow:global_step/sec: 1336.92\n",
      "INFO:tensorflow:loss = 59.38246, step = 8300 (0.076 sec)\n",
      "INFO:tensorflow:global_step/sec: 1319.3\n",
      "INFO:tensorflow:loss = 59.345417, step = 8400 (0.076 sec)\n",
      "INFO:tensorflow:global_step/sec: 1373.53\n",
      "INFO:tensorflow:loss = 59.3098, step = 8500 (0.072 sec)\n",
      "INFO:tensorflow:global_step/sec: 1377.15\n",
      "INFO:tensorflow:loss = 59.275513, step = 8600 (0.074 sec)\n",
      "INFO:tensorflow:global_step/sec: 1392.58\n",
      "INFO:tensorflow:loss = 59.242535, step = 8700 (0.071 sec)\n",
      "INFO:tensorflow:global_step/sec: 1519.23\n",
      "INFO:tensorflow:loss = 59.210793, step = 8800 (0.066 sec)\n",
      "INFO:tensorflow:global_step/sec: 1412.23\n",
      "INFO:tensorflow:loss = 59.180267, step = 8900 (0.071 sec)\n",
      "INFO:tensorflow:global_step/sec: 1453.15\n",
      "INFO:tensorflow:loss = 59.150833, step = 9000 (0.070 sec)\n",
      "INFO:tensorflow:global_step/sec: 1319.3\n",
      "INFO:tensorflow:loss = 59.12253, step = 9100 (0.075 sec)\n",
      "INFO:tensorflow:global_step/sec: 1302.07\n",
      "INFO:tensorflow:loss = 59.09526, step = 9200 (0.077 sec)\n",
      "INFO:tensorflow:global_step/sec: 1319.42\n",
      "INFO:tensorflow:loss = 59.06899, step = 9300 (0.076 sec)\n",
      "INFO:tensorflow:global_step/sec: 1373.53\n",
      "INFO:tensorflow:loss = 59.0437, step = 9400 (0.073 sec)\n",
      "INFO:tensorflow:global_step/sec: 1354.97\n",
      "INFO:tensorflow:loss = 59.01932, step = 9500 (0.074 sec)\n",
      "INFO:tensorflow:global_step/sec: 1432.4\n",
      "INFO:tensorflow:loss = 58.99585, step = 9600 (0.071 sec)\n",
      "INFO:tensorflow:global_step/sec: 1542.56\n",
      "INFO:tensorflow:loss = 58.973213, step = 9700 (0.065 sec)\n",
      "INFO:tensorflow:global_step/sec: 1474.53\n",
      "INFO:tensorflow:loss = 58.951397, step = 9800 (0.067 sec)\n",
      "INFO:tensorflow:global_step/sec: 1496.52\n",
      "INFO:tensorflow:loss = 58.930374, step = 9900 (0.068 sec)\n",
      "INFO:tensorflow:Saving checkpoints for 10000 into train1\\model.ckpt.\n",
      "INFO:tensorflow:Loss for final step: 25.383411.\n"
     ]
    },
    {
     "data": {
      "text/plain": [
       "<tensorflow_estimator.python.estimator.canned.linear.LinearRegressorV2 at 0x209586a5988>"
      ]
     },
     "execution_count": 22,
     "metadata": {},
     "output_type": "execute_result"
    }
   ],
   "source": [
    "train_input = tf.compat.v1.estimator.inputs.numpy_input_fn(x = {\"x\": X_train}, \n",
    "                                                 y = Y_train,\n",
    "                                                batch_size = 128,\n",
    "                                                shuffle = False,\n",
    "                                                num_epochs = None)\n",
    "estimator.train(input_fn = train_input, steps = 5000)"
   ]
  },
  {
   "cell_type": "code",
   "execution_count": 23,
   "metadata": {},
   "outputs": [
    {
     "name": "stdout",
     "output_type": "stream",
     "text": [
      "INFO:tensorflow:Calling model_fn.\n",
      "WARNING:tensorflow:Layer linear/linear_model is casting an input tensor from dtype float64 to the layer's dtype of float32, which is new behavior in TensorFlow 2.  The layer has dtype float32 because it's dtype defaults to floatx.\n",
      "\n",
      "If you intended to run this layer in float32, you can safely ignore this warning. If in doubt, this warning is likely only an issue if you are porting a TensorFlow 1.X model to TensorFlow 2.\n",
      "\n",
      "To change all layers to have dtype float64 by default, call `tf.keras.backend.set_floatx('float64')`. To change just this layer, pass dtype='float64' to the layer constructor. If you are the author of this layer, you can disable autocasting by passing autocast=False to the base Layer constructor.\n",
      "\n",
      "INFO:tensorflow:Done calling model_fn.\n",
      "INFO:tensorflow:Starting evaluation at 2019-10-23T17:01:30Z\n",
      "INFO:tensorflow:Graph was finalized.\n",
      "INFO:tensorflow:Restoring parameters from train1\\model.ckpt-10000\n",
      "INFO:tensorflow:Running local_init_op.\n",
      "INFO:tensorflow:Done running local_init_op.\n",
      "INFO:tensorflow:Finished evaluation at 2019-10-23-17:01:31\n",
      "INFO:tensorflow:Saving dict for global step 10000: average_loss = 17.154873, global_step = 10000, label/mean = 22.08, loss = 17.154873, prediction/mean = 23.208712\n",
      "INFO:tensorflow:Saving 'checkpoint_path' summary for global step 10000: train1\\model.ckpt-10000\n"
     ]
    },
    {
     "data": {
      "text/plain": [
       "{'average_loss': 17.154873,\n",
       " 'label/mean': 22.08,\n",
       " 'loss': 17.154873,\n",
       " 'prediction/mean': 23.208712,\n",
       " 'global_step': 10000}"
      ]
     },
     "execution_count": 23,
     "metadata": {},
     "output_type": "execute_result"
    }
   ],
   "source": [
    "eval_input = tf.compat.v1.estimator.inputs.numpy_input_fn(x = {\"x\": X_test},\n",
    "                                                          y = Y_test,\n",
    "                                                          shuffle = False,\n",
    "                                                          batch_size = 128,\n",
    "                                                          num_epochs = 1)\n",
    "estimator.evaluate(eval_input, steps = None)"
   ]
  },
  {
   "cell_type": "markdown",
   "metadata": {},
   "source": [
    "Finaly, you can compute the prediction. It should be the similar as pandas."
   ]
  },
  {
   "cell_type": "code",
   "execution_count": 24,
   "metadata": {},
   "outputs": [
    {
     "name": "stdout",
     "output_type": "stream",
     "text": [
      "INFO:tensorflow:Calling model_fn.\n",
      "WARNING:tensorflow:Layer linear/linear_model is casting an input tensor from dtype float64 to the layer's dtype of float32, which is new behavior in TensorFlow 2.  The layer has dtype float32 because it's dtype defaults to floatx.\n",
      "\n",
      "If you intended to run this layer in float32, you can safely ignore this warning. If in doubt, this warning is likely only an issue if you are porting a TensorFlow 1.X model to TensorFlow 2.\n",
      "\n",
      "To change all layers to have dtype float64 by default, call `tf.keras.backend.set_floatx('float64')`. To change just this layer, pass dtype='float64' to the layer constructor. If you are the author of this layer, you can disable autocasting by passing autocast=False to the base Layer constructor.\n",
      "\n",
      "INFO:tensorflow:Done calling model_fn.\n",
      "INFO:tensorflow:Graph was finalized.\n",
      "INFO:tensorflow:Restoring parameters from train1\\model.ckpt-10000\n",
      "INFO:tensorflow:Running local_init_op.\n",
      "INFO:tensorflow:Done running local_init_op.\n",
      "Predictions: [array([35.186127], dtype=float32), array([19.197412], dtype=float32), array([23.930864], dtype=float32), array([34.54175], dtype=float32), array([13.562332], dtype=float32), array([19.704182], dtype=float32)]\n"
     ]
    }
   ],
   "source": [
    "test_input = tf.compat.v1.estimator.inputs.numpy_input_fn(x = {\"x\": X_predict},\n",
    "                                                          batch_size = 128,\n",
    "                                                          num_epochs = 1,\n",
    "                                                          shuffle = False)\n",
    "y = estimator.predict(test_input)\n",
    "predictions = list(p[\"predictions\"] for p in itertools.islice(y, 6))\n",
    "print(\"Predictions: {}\".format(str(predictions)))"
   ]
  }
 ],
 "metadata": {
  "kernelspec": {
   "display_name": "Python 3",
   "language": "python",
   "name": "python3"
  },
  "language_info": {
   "codemirror_mode": {
    "name": "ipython",
    "version": 3
   },
   "file_extension": ".py",
   "mimetype": "text/x-python",
   "name": "python",
   "nbconvert_exporter": "python",
   "pygments_lexer": "ipython3",
   "version": "3.7.4"
  }
 },
 "nbformat": 4,
 "nbformat_minor": 2
}
